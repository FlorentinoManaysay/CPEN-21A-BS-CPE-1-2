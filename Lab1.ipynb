{
  "nbformat": 4,
  "nbformat_minor": 0,
  "metadata": {
    "colab": {
      "name": "Lab1.ipynb",
      "provenance": [],
      "collapsed_sections": [],
      "authorship_tag": "ABX9TyM4k5NE64lJbIEQTCZdPOKX",
      "include_colab_link": true
    },
    "kernelspec": {
      "name": "python3",
      "display_name": "Python 3"
    },
    "language_info": {
      "name": "python"
    }
  },
  "cells": [
    {
      "cell_type": "markdown",
      "metadata": {
        "id": "view-in-github",
        "colab_type": "text"
      },
      "source": [
        "<a href=\"https://colab.research.google.com/github/InoRM21/CPEN-21A-BS-CPE-1-2/blob/main/Lab1.ipynb\" target=\"_parent\"><img src=\"https://colab.research.google.com/assets/colab-badge.svg\" alt=\"Open In Colab\"/></a>"
      ]
    },
    {
      "cell_type": "markdown",
      "metadata": {
        "id": "SH_pChvd4ynn"
      },
      "source": [
        "#Welcome to Python Programming"
      ]
    },
    {
      "cell_type": "code",
      "metadata": {
        "colab": {
          "base_uri": "https://localhost:8080/"
        },
        "id": "zLtKWbtH43q0",
        "outputId": "fd928901-e084-49bc-c3f9-7226a3563654"
      },
      "source": [
        "name= \"Florentino Reyes Manaysay III\"\n",
        "print(name)"
      ],
      "execution_count": 18,
      "outputs": [
        {
          "output_type": "stream",
          "name": "stdout",
          "text": [
            "Florentino Reyes Manaysay III\n"
          ]
        }
      ]
    },
    {
      "cell_type": "code",
      "metadata": {
        "colab": {
          "base_uri": "https://localhost:8080/"
        },
        "id": "L5u-iejoDy6G",
        "outputId": "5084d3b2-d4de-4aa7-87f9-07ad19f20f05"
      },
      "source": [
        "age= \"19 years old\"\n",
        "print(age)"
      ],
      "execution_count": 19,
      "outputs": [
        {
          "output_type": "stream",
          "name": "stdout",
          "text": [
            "19 years old\n"
          ]
        }
      ]
    },
    {
      "cell_type": "code",
      "metadata": {
        "colab": {
          "base_uri": "https://localhost:8080/"
        },
        "id": "vT4UaqxaD0vw",
        "outputId": "ea24f8f3-ffca-4423-8379-24ced8b05297"
      },
      "source": [
        "address= \"Blk 5 Lt 17 Toronto Street Summerwind Village Burol Main Dasmariñas City Cavite\"\n",
        "print(address)"
      ],
      "execution_count": 20,
      "outputs": [
        {
          "output_type": "stream",
          "name": "stdout",
          "text": [
            "Blk 5 Lt 17 Toronto Street Summerwind Village Burol Main Dasmariñas City Cavite\n"
          ]
        }
      ]
    }
  ]
}