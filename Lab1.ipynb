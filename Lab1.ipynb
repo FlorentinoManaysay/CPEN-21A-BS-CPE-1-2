{
  "nbformat": 4,
  "nbformat_minor": 0,
  "metadata": {
    "colab": {
      "name": "Lab1.ipynb",
      "provenance": [],
      "collapsed_sections": [],
      "authorship_tag": "ABX9TyPPGyT5UECilX5mcGONV5HQ",
      "include_colab_link": true
    },
    "kernelspec": {
      "name": "python3",
      "display_name": "Python 3"
    },
    "language_info": {
      "name": "python"
    }
  },
  "cells": [
    {
      "cell_type": "markdown",
      "metadata": {
        "id": "view-in-github",
        "colab_type": "text"
      },
      "source": [
        "<a href=\"https://colab.research.google.com/github/InoRM21/CPEN-21A-BS-CPE-1-2/blob/main/Lab1.ipynb\" target=\"_parent\"><img src=\"https://colab.research.google.com/assets/colab-badge.svg\" alt=\"Open In Colab\"/></a>"
      ]
    },
    {
      "cell_type": "markdown",
      "metadata": {
        "id": "SH_pChvd4ynn"
      },
      "source": [
        "#Welcome to Python Programming"
      ]
    },
    {
      "cell_type": "code",
      "metadata": {
        "colab": {
          "base_uri": "https://localhost:8080/"
        },
        "id": "zLtKWbtH43q0",
        "outputId": "13ad6ee7-42d8-47db-fbc1-651d05738725"
      },
      "source": [
        "#Profile\n",
        "\n",
        "name= \"Florentino Reyes Manaysay III\"\n",
        "age= \"19 years old\"\n",
        "address= \"Blk 5 Lt 17 Toronto Street Summerwind Village Burol Main Dasmariñas City Cavite\"\n",
        "\n",
        "print(name)\n",
        "print(age)\n",
        "print(address)\n"
      ],
      "execution_count": 17,
      "outputs": [
        {
          "output_type": "stream",
          "name": "stdout",
          "text": [
            "Florentino Reyes Manaysay III\n",
            "19 years old\n",
            "Blk 5 Lt 17 Toronto Street Summerwind Village Burol Main Dasmariñas City Cavite\n"
          ]
        }
      ]
    }
  ]
}