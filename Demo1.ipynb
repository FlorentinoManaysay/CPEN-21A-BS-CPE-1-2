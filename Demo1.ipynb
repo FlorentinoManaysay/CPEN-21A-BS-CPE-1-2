{
  "nbformat": 4,
  "nbformat_minor": 0,
  "metadata": {
    "colab": {
      "name": "Demo1",
      "provenance": [],
      "authorship_tag": "ABX9TyNnmHQuTC1NrBFdNah0qFbL",
      "include_colab_link": true
    },
    "kernelspec": {
      "name": "python3",
      "display_name": "Python 3"
    },
    "language_info": {
      "name": "python"
    }
  },
  "cells": [
    {
      "cell_type": "markdown",
      "metadata": {
        "id": "view-in-github",
        "colab_type": "text"
      },
      "source": [
        "<a href=\"https://colab.research.google.com/github/InoRM21/CPEN-21A-BS-CPE-1-2/blob/main/Demo1.ipynb\" target=\"_parent\"><img src=\"https://colab.research.google.com/assets/colab-badge.svg\" alt=\"Open In Colab\"/></a>"
      ]
    },
    {
      "cell_type": "markdown",
      "metadata": {
        "id": "W9VZSDYcJR_X"
      },
      "source": [
        "#Introduction to Python"
      ]
    },
    {
      "cell_type": "code",
      "metadata": {
        "colab": {
          "base_uri": "https://localhost:8080/"
        },
        "id": "Ey2AMpfCGl__",
        "outputId": "71376860-1c96-4722-b647-75211ee01051"
      },
      "source": [
        "if 5>2:\n",
        "  print(\"Five is greater than two\")\n"
      ],
      "execution_count": 4,
      "outputs": [
        {
          "output_type": "stream",
          "name": "stdout",
          "text": [
            "Five is greater than two\n"
          ]
        }
      ]
    },
    {
      "cell_type": "code",
      "metadata": {
        "colab": {
          "base_uri": "https://localhost:8080/"
        },
        "id": "o4fgEno-IETP",
        "outputId": "5d6d2628-7b93-4a7a-a9cb-6cc8826a7ccf"
      },
      "source": [
        "x = 1    #This is a single variable\n",
        "x,y=1,2  #These are two variables with two different values\n",
        "x,y,z=1,2,3\n",
        "print(x)\n",
        "print(y)\n",
        "print(z)"
      ],
      "execution_count": 6,
      "outputs": [
        {
          "output_type": "stream",
          "name": "stdout",
          "text": [
            "1\n",
            "2\n",
            "3\n"
          ]
        }
      ]
    },
    {
      "cell_type": "code",
      "metadata": {
        "colab": {
          "base_uri": "https://localhost:8080/",
          "height": 35
        },
        "id": "pwWcTM5mI8QH",
        "outputId": "ea892d20-b2b7-45a3-89f1-adc753a390e9"
      },
      "source": [
        "x,y=\"four\",2\n",
        "x\n",
        "y\n",
        "x"
      ],
      "execution_count": 7,
      "outputs": [
        {
          "output_type": "execute_result",
          "data": {
            "application/vnd.google.colaboratory.intrinsic+json": {
              "type": "string"
            },
            "text/plain": [
              "'four'"
            ]
          },
          "metadata": {},
          "execution_count": 7
        }
      ]
    },
    {
      "cell_type": "markdown",
      "metadata": {
        "id": "a51mzliXJGlr"
      },
      "source": [
        "#Casting"
      ]
    },
    {
      "cell_type": "code",
      "metadata": {
        "colab": {
          "base_uri": "https://localhost:8080/"
        },
        "id": "jJjc--r3JJnf",
        "outputId": "471770c0-705f-489b-ddce-761d3d4aed2c"
      },
      "source": [
        "b = int(4)\n",
        "b\n",
        "c = float(4)\n",
        "c"
      ],
      "execution_count": 9,
      "outputs": [
        {
          "output_type": "execute_result",
          "data": {
            "text/plain": [
              "4.0"
            ]
          },
          "metadata": {},
          "execution_count": 9
        }
      ]
    },
    {
      "cell_type": "markdown",
      "metadata": {
        "id": "HWTaVeriJolr"
      },
      "source": [
        "#Type Function"
      ]
    },
    {
      "cell_type": "code",
      "metadata": {
        "colab": {
          "base_uri": "https://localhost:8080/"
        },
        "id": "ORgSyUT0JtvS",
        "outputId": "c6e4092b-a696-4382-c16a-dbab74498b8c"
      },
      "source": [
        "x = 5\n",
        "y = \"John\"  #This is a type of string\n",
        "h = \"ino\"\n",
        "H = \"Ino\"\n",
        "\n",
        "print(type(x))\n",
        "print(type(y))\n",
        "print(h)\n",
        "print(H)"
      ],
      "execution_count": 35,
      "outputs": [
        {
          "output_type": "stream",
          "name": "stdout",
          "text": [
            "<class 'int'>\n",
            "<class 'str'>\n",
            "ino\n",
            "Ino\n"
          ]
        }
      ]
    },
    {
      "cell_type": "markdown",
      "metadata": {
        "id": "IKGVbS6fKWQ8"
      },
      "source": [
        "#One Value to Multiple Variables"
      ]
    },
    {
      "cell_type": "code",
      "metadata": {
        "colab": {
          "base_uri": "https://localhost:8080/"
        },
        "id": "2ep-hJlmKcQ4",
        "outputId": "1b3c02b7-2eea-4932-ea24-cf3a335d3998"
      },
      "source": [
        "x = y = z = 'four'\n",
        "print(x)\n",
        "print(y)\n",
        "print(z)"
      ],
      "execution_count": 12,
      "outputs": [
        {
          "output_type": "stream",
          "name": "stdout",
          "text": [
            "four\n",
            "four\n",
            "four\n"
          ]
        }
      ]
    },
    {
      "cell_type": "code",
      "metadata": {
        "colab": {
          "base_uri": "https://localhost:8080/"
        },
        "id": "icQsLu4EK23Q",
        "outputId": "ba6f49ff-7b7c-4154-8db5-79a51a300412"
      },
      "source": [
        "x = \"enjoying\"\n",
        "print(\"Python Programming is\" \" \" + x)"
      ],
      "execution_count": 19,
      "outputs": [
        {
          "output_type": "stream",
          "name": "stdout",
          "text": [
            "Python Programming is enjoying\n"
          ]
        }
      ]
    },
    {
      "cell_type": "code",
      "metadata": {
        "colab": {
          "base_uri": "https://localhost:8080/"
        },
        "id": "xn_jYaq7Laca",
        "outputId": "878081bf-7a51-424e-db7f-80b3bedd5d2a"
      },
      "source": [
        "x = 11\n",
        "y = 12\n",
        "z = 13\n",
        "print(x+y+z)"
      ],
      "execution_count": 22,
      "outputs": [
        {
          "output_type": "stream",
          "name": "stdout",
          "text": [
            "36\n"
          ]
        }
      ]
    },
    {
      "cell_type": "code",
      "metadata": {
        "colab": {
          "base_uri": "https://localhost:8080/"
        },
        "id": "d7ArmvjaLrfa",
        "outputId": "bc19ca8f-69d0-4937-b386-7c152659dc93"
      },
      "source": [
        "x+=3  #This is the same as x = x =3\n",
        "print(x)"
      ],
      "execution_count": 23,
      "outputs": [
        {
          "output_type": "stream",
          "name": "stdout",
          "text": [
            "14\n"
          ]
        }
      ]
    },
    {
      "cell_type": "code",
      "metadata": {
        "colab": {
          "base_uri": "https://localhost:8080/"
        },
        "id": "snXBd7V6L8Oi",
        "outputId": "fb414c50-cedf-4c14-ea7f-3b52df724273"
      },
      "source": [
        "y+=5\n",
        "print(y)"
      ],
      "execution_count": 24,
      "outputs": [
        {
          "output_type": "stream",
          "name": "stdout",
          "text": [
            "17\n"
          ]
        }
      ]
    },
    {
      "cell_type": "code",
      "metadata": {
        "colab": {
          "base_uri": "https://localhost:8080/"
        },
        "id": "34-8cgttMC1Q",
        "outputId": "4920894a-aaa5-4edf-b74e-9174f07ec6e5"
      },
      "source": [
        "print(x>y)"
      ],
      "execution_count": 25,
      "outputs": [
        {
          "output_type": "stream",
          "name": "stdout",
          "text": [
            "False\n"
          ]
        }
      ]
    },
    {
      "cell_type": "code",
      "metadata": {
        "colab": {
          "base_uri": "https://localhost:8080/"
        },
        "id": "yDe4qNwGMH3M",
        "outputId": "92fb1544-402b-4076-9424-d7ae84a1b87e"
      },
      "source": [
        "x<y and x==x"
      ],
      "execution_count": 27,
      "outputs": [
        {
          "output_type": "execute_result",
          "data": {
            "text/plain": [
              "True"
            ]
          },
          "metadata": {},
          "execution_count": 27
        }
      ]
    },
    {
      "cell_type": "code",
      "metadata": {
        "colab": {
          "base_uri": "https://localhost:8080/"
        },
        "id": "yjnlajcnMVGV",
        "outputId": "b1641db2-170d-448b-b6a0-bcd1c26eff80"
      },
      "source": [
        "x<y and x!=x"
      ],
      "execution_count": 28,
      "outputs": [
        {
          "output_type": "execute_result",
          "data": {
            "text/plain": [
              "False"
            ]
          },
          "metadata": {},
          "execution_count": 28
        }
      ]
    },
    {
      "cell_type": "code",
      "metadata": {
        "colab": {
          "base_uri": "https://localhost:8080/"
        },
        "id": "ecy8XsbTMaeT",
        "outputId": "2228d86a-f1ba-4cd3-cb7c-64aff8ea8261"
      },
      "source": [
        "x<y or y==y"
      ],
      "execution_count": 29,
      "outputs": [
        {
          "output_type": "execute_result",
          "data": {
            "text/plain": [
              "True"
            ]
          },
          "metadata": {},
          "execution_count": 29
        }
      ]
    },
    {
      "cell_type": "code",
      "metadata": {
        "colab": {
          "base_uri": "https://localhost:8080/"
        },
        "id": "_UvnSKkuMkk8",
        "outputId": "45576b29-09ae-4ae0-902b-033e2a96ceb5"
      },
      "source": [
        "x>y or y==z"
      ],
      "execution_count": 32,
      "outputs": [
        {
          "output_type": "execute_result",
          "data": {
            "text/plain": [
              "False"
            ]
          },
          "metadata": {},
          "execution_count": 32
        }
      ]
    },
    {
      "cell_type": "code",
      "metadata": {
        "colab": {
          "base_uri": "https://localhost:8080/"
        },
        "id": "6QEkvpkMMtG0",
        "outputId": "23180c3c-1d25-4dab-a4ca-c5c856c96731"
      },
      "source": [
        "not(print(x>y))"
      ],
      "execution_count": 33,
      "outputs": [
        {
          "output_type": "stream",
          "name": "stdout",
          "text": [
            "False\n"
          ]
        },
        {
          "output_type": "execute_result",
          "data": {
            "text/plain": [
              "True"
            ]
          },
          "metadata": {},
          "execution_count": 33
        }
      ]
    },
    {
      "cell_type": "code",
      "metadata": {
        "colab": {
          "base_uri": "https://localhost:8080/"
        },
        "id": "mkU4ExcBM8OR",
        "outputId": "5f7e04ea-8cb8-4233-943f-6c91c8060c32"
      },
      "source": [
        "#Identify operations\n",
        "print(x is y)\n",
        "print(x is not z)"
      ],
      "execution_count": 34,
      "outputs": [
        {
          "output_type": "stream",
          "name": "stdout",
          "text": [
            "False\n",
            "True\n"
          ]
        }
      ]
    }
  ]
}