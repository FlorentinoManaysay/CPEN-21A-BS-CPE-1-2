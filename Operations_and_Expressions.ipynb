{
  "nbformat": 4,
  "nbformat_minor": 0,
  "metadata": {
    "colab": {
      "name": "Operations and Expressions.ipynb",
      "provenance": [],
      "authorship_tag": "ABX9TyNf5Ut0qVA2Fde5ESfEXiXv",
      "include_colab_link": true
    },
    "kernelspec": {
      "name": "python3",
      "display_name": "Python 3"
    },
    "language_info": {
      "name": "python"
    }
  },
  "cells": [
    {
      "cell_type": "markdown",
      "metadata": {
        "id": "view-in-github",
        "colab_type": "text"
      },
      "source": [
        "<a href=\"https://colab.research.google.com/github/InoRM21/CPEN-21A-BS-CPE-1-2/blob/main/Operations_and_Expressions.ipynb\" target=\"_parent\"><img src=\"https://colab.research.google.com/assets/colab-badge.svg\" alt=\"Open In Colab\"/></a>"
      ]
    },
    {
      "cell_type": "markdown",
      "metadata": {
        "id": "2gYwQEkH0bib"
      },
      "source": [
        "#Boolean Operators"
      ]
    },
    {
      "cell_type": "code",
      "metadata": {
        "id": "00Sx3V3x0tJo",
        "colab": {
          "base_uri": "https://localhost:8080/"
        },
        "outputId": "931fcb61-9ef4-4bae-905c-5b89cd8df71d"
      },
      "source": [
        "#Booleans represent one of two values: True or False\n",
        "print(10>0)\n",
        "print(10==3)\n",
        "print(9>10)"
      ],
      "execution_count": 18,
      "outputs": [
        {
          "output_type": "stream",
          "name": "stdout",
          "text": [
            "True\n",
            "False\n",
            "False\n"
          ]
        }
      ]
    },
    {
      "cell_type": "code",
      "metadata": {
        "colab": {
          "base_uri": "https://localhost:8080/"
        },
        "id": "ibNXItQJ92Vm",
        "outputId": "8da5a0e1-b491-4d1b-e2f8-9e271b101d9c"
      },
      "source": [
        "a = 10\n",
        "b = 9\n",
        "print(a>b)\n",
        "print(a==a)\n",
        "print(b>a)\n",
        "b>a"
      ],
      "execution_count": 21,
      "outputs": [
        {
          "output_type": "stream",
          "name": "stdout",
          "text": [
            "True\n",
            "True\n",
            "False\n"
          ]
        },
        {
          "output_type": "execute_result",
          "data": {
            "text/plain": [
              "False"
            ]
          },
          "metadata": {},
          "execution_count": 21
        }
      ]
    },
    {
      "cell_type": "code",
      "metadata": {
        "colab": {
          "base_uri": "https://localhost:8080/"
        },
        "id": "LrfQ8Tai93uH",
        "outputId": "ce6f8d62-8834-4326-b32d-e2a11fb274ec"
      },
      "source": [
        "print(bool(\"Hello\"))\n",
        "print(bool(15))\n",
        "print(bool(True))"
      ],
      "execution_count": 24,
      "outputs": [
        {
          "output_type": "stream",
          "name": "stdout",
          "text": [
            "True\n",
            "True\n",
            "True\n"
          ]
        }
      ]
    },
    {
      "cell_type": "code",
      "metadata": {
        "colab": {
          "base_uri": "https://localhost:8080/"
        },
        "id": "kvGVrWxDCC2K",
        "outputId": "367de245-021d-4052-8c7a-e4b4f5284211"
      },
      "source": [
        "print(bool(False))\n",
        "print(bool(None))\n",
        "print(bool(0))\n",
        "print(bool([]))  #allows you to evaluate and give False in return"
      ],
      "execution_count": 27,
      "outputs": [
        {
          "output_type": "stream",
          "name": "stdout",
          "text": [
            "False\n",
            "False\n",
            "False\n",
            "False\n"
          ]
        }
      ]
    },
    {
      "cell_type": "code",
      "metadata": {
        "colab": {
          "base_uri": "https://localhost:8080/"
        },
        "id": "M3Z0Hm55CDCB",
        "outputId": "d545d7ec-d72d-4533-ccfb-e44cc4d0552f"
      },
      "source": [
        "def myFunction():return True\n",
        "if myFunction():\n",
        "  print(\"Yes\")\n",
        "else:\n",
        "  print(\"NO\")"
      ],
      "execution_count": 30,
      "outputs": [
        {
          "output_type": "stream",
          "name": "stdout",
          "text": [
            "Yes\n"
          ]
        }
      ]
    },
    {
      "cell_type": "code",
      "metadata": {
        "colab": {
          "base_uri": "https://localhost:8080/"
        },
        "id": "LCrbjEFmDXOG",
        "outputId": "21c0bf97-dd5f-4235-a8e0-68a2e3d4ba7f"
      },
      "source": [
        "def myFunction():return False\n",
        "if myFunction():\n",
        "  print(\"Yes\")\n",
        "else:\n",
        "  print(\"NO\")"
      ],
      "execution_count": 31,
      "outputs": [
        {
          "output_type": "stream",
          "name": "stdout",
          "text": [
            "NO\n"
          ]
        }
      ]
    },
    {
      "cell_type": "markdown",
      "metadata": {
        "id": "OuGO9ZLiDeos"
      },
      "source": [
        "###You Try!"
      ]
    },
    {
      "cell_type": "code",
      "metadata": {
        "colab": {
          "base_uri": "https://localhost:8080/"
        },
        "id": "bru3lwspDiGe",
        "outputId": "07f0a5b1-e264-4934-c8b4-8e6916d89f77"
      },
      "source": [
        "a = 6\n",
        "b = 7\n",
        "\n",
        "print(a==b)\n",
        "print(a!=a)"
      ],
      "execution_count": 32,
      "outputs": [
        {
          "output_type": "stream",
          "name": "stdout",
          "text": [
            "False\n",
            "False\n"
          ]
        }
      ]
    },
    {
      "cell_type": "code",
      "metadata": {
        "colab": {
          "base_uri": "https://localhost:8080/"
        },
        "id": "bKDPVDwkDslE",
        "outputId": "487ab5b1-720d-4b21-dcd7-9fbe62410f46"
      },
      "source": [
        "print(10+5)\n",
        "print(10-5)\n",
        "print(10*5)\n",
        "print(10/5) #division - quotient\n",
        "print(10%5) #modulo division\n",
        "print(10%3) #modulo division\n",
        "print(10//3) #floor division\n",
        "print(10**2) #concatenation"
      ],
      "execution_count": 35,
      "outputs": [
        {
          "output_type": "stream",
          "name": "stdout",
          "text": [
            "15\n",
            "5\n",
            "50\n",
            "2.0\n",
            "0\n",
            "1\n",
            "3\n",
            "100\n"
          ]
        }
      ]
    },
    {
      "cell_type": "code",
      "metadata": {
        "colab": {
          "base_uri": "https://localhost:8080/"
        },
        "id": "dsTKBkYb8RJS",
        "outputId": "564b5c7b-42b3-4afa-a6df-6016e409c9f8"
      },
      "source": [
        "a = 60 #0011 1100   0000 1111\n",
        "b = 13 #0000 1101\n",
        "\n",
        "print(a&b)\n",
        "print(a|b)\n",
        "print(a^b)\n",
        "print(a<<2)\n",
        "print(a>>2)"
      ],
      "execution_count": 6,
      "outputs": [
        {
          "output_type": "stream",
          "name": "stdout",
          "text": [
            "12\n",
            "61\n",
            "49\n",
            "240\n",
            "15\n"
          ]
        }
      ]
    },
    {
      "cell_type": "code",
      "metadata": {
        "colab": {
          "base_uri": "https://localhost:8080/"
        },
        "id": "r1YOcbVc-wAP",
        "outputId": "e7c36d95-04b2-4c18-a2ff-f04fe3199045"
      },
      "source": [
        "x=6\n",
        "x+=3  #x=x+3\n",
        "print(x)\n",
        "\n",
        "x%=3  #x=6%3 ; remainder 0\n",
        "print(x)"
      ],
      "execution_count": 9,
      "outputs": [
        {
          "output_type": "stream",
          "name": "stdout",
          "text": [
            "9\n",
            "0\n"
          ]
        }
      ]
    },
    {
      "cell_type": "code",
      "metadata": {
        "colab": {
          "base_uri": "https://localhost:8080/"
        },
        "id": "jrk07WYr_cca",
        "outputId": "f45768f9-17af-45e2-cb3b-1901eeaeec84"
      },
      "source": [
        "a = True\n",
        "b = False\n",
        "\n",
        "a and b\n",
        "a or b"
      ],
      "execution_count": 12,
      "outputs": [
        {
          "output_type": "execute_result",
          "data": {
            "text/plain": [
              "True"
            ]
          },
          "metadata": {},
          "execution_count": 12
        }
      ]
    },
    {
      "cell_type": "code",
      "metadata": {
        "colab": {
          "base_uri": "https://localhost:8080/"
        },
        "id": "OYfAzKJ1_szZ",
        "outputId": "e153c909-c873-4cad-a6dd-7317e1865f63"
      },
      "source": [
        "a = True\n",
        "b = False\n",
        "\n",
        "print(a and b)\n",
        "print(a or b)\n",
        "print(not(a and b))\n",
        "print(not(a or b))  #negation"
      ],
      "execution_count": 14,
      "outputs": [
        {
          "output_type": "stream",
          "name": "stdout",
          "text": [
            "False\n",
            "True\n",
            "True\n",
            "False\n"
          ]
        }
      ]
    },
    {
      "cell_type": "code",
      "metadata": {
        "colab": {
          "base_uri": "https://localhost:8080/"
        },
        "id": "Fqf8bmzLAFbN",
        "outputId": "45de083e-1142-4ea3-d738-1a287c74c00c"
      },
      "source": [
        "print(a is b )\n",
        "print(a is not b)"
      ],
      "execution_count": 17,
      "outputs": [
        {
          "output_type": "stream",
          "name": "stdout",
          "text": [
            "False\n",
            "True\n"
          ]
        }
      ]
    }
  ]
}