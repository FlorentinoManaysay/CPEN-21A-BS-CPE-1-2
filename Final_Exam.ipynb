{
  "nbformat": 4,
  "nbformat_minor": 0,
  "metadata": {
    "colab": {
      "name": "Final Exam.ipynb",
      "provenance": [],
      "authorship_tag": "ABX9TyNIBZiekxkiw2rxBO7b7S+6",
      "include_colab_link": true
    },
    "kernelspec": {
      "name": "python3",
      "display_name": "Python 3"
    },
    "language_info": {
      "name": "python"
    }
  },
  "cells": [
    {
      "cell_type": "markdown",
      "metadata": {
        "id": "view-in-github",
        "colab_type": "text"
      },
      "source": [
        "<a href=\"https://colab.research.google.com/github/InoRM21/CPEN-21A-BS-CPE-1-2/blob/main/Final_Exam.ipynb\" target=\"_parent\"><img src=\"https://colab.research.google.com/assets/colab-badge.svg\" alt=\"Open In Colab\"/></a>"
      ]
    },
    {
      "cell_type": "markdown",
      "source": [
        "#Final Exam"
      ],
      "metadata": {
        "id": "F8IvPuDfDsPt"
      }
    },
    {
      "cell_type": "markdown",
      "source": [
        "#PROBLEM STATEMENT 1"
      ],
      "metadata": {
        "id": "OX2JLjfVDxMQ"
      }
    },
    {
      "cell_type": "code",
      "source": [
        "sum = 0\n",
        "for x in [1,1,1,2,2,3,3,4,4,4]:\n",
        "      sum = sum + x\n",
        "\n",
        "print(sum)"
      ],
      "metadata": {
        "colab": {
          "base_uri": "https://localhost:8080/"
        },
        "id": "jRut1YaXD40a",
        "outputId": "0f4702af-649c-4bc0-ef4c-1aa866ca82a2"
      },
      "execution_count": null,
      "outputs": [
        {
          "output_type": "stream",
          "name": "stdout",
          "text": [
            "25\n"
          ]
        }
      ]
    },
    {
      "cell_type": "markdown",
      "source": [
        "#PROBLEM STATEMENT 2"
      ],
      "metadata": {
        "id": "wIjnsy7DD_O9"
      }
    },
    {
      "cell_type": "code",
      "source": [
        "num = 0\n",
        "sum = 0\n",
        "\n",
        "while num < 5:\n",
        "  x = int(input(\"Enter a number: \"))\n",
        "  num += 1\n",
        "  if num == 1 or num == 5:\n",
        "    sum = sum + x\n",
        "\n",
        "print(\"The sum of first and last number is \", sum)"
      ],
      "metadata": {
        "colab": {
          "base_uri": "https://localhost:8080/"
        },
        "id": "JsJpy8kXED1U",
        "outputId": "18b87541-0591-44c5-e650-420ee3adb285"
      },
      "execution_count": null,
      "outputs": [
        {
          "output_type": "stream",
          "name": "stdout",
          "text": [
            "Enter a number: 1\n",
            "Enter a number: 2\n",
            "Enter a number: 3\n",
            "Enter a number: 4\n",
            "Enter a number: 5\n",
            "The sum of first and last number is  6\n"
          ]
        }
      ]
    },
    {
      "cell_type": "markdown",
      "source": [
        "#PROBLEM STATEMENT 3"
      ],
      "metadata": {
        "id": "VQMl0WX5EL14"
      }
    },
    {
      "cell_type": "code",
      "source": [
        "range =[\"90 and above\",\"80-89\",\"70-79\",\"60-69\",\"Below 60\"]\n",
        "grade =[\"A\",\"B\",\"C\",\"D\",\"E\"]\n",
        "\n",
        "range = float(input(\"Enter the Range: \"))\n",
        "if range>=90:\n",
        "  print(\"Grade A\")\n",
        "elif range>=80 and range<=89:\n",
        "  print(\"Grade B\")\n",
        "elif range>=70 and range<=79:\n",
        "  print(\"Grade C\")\n",
        "elif range>=60 and range<=69:\n",
        "  print(\"Grade D\")\n",
        "else:\n",
        "  print(\"Grade E\")"
      ],
      "metadata": {
        "colab": {
          "base_uri": "https://localhost:8080/"
        },
        "id": "y37DdudDEOfr",
        "outputId": "53ff61a1-8112-4a65-f797-35cf8571ba51"
      },
      "execution_count": null,
      "outputs": [
        {
          "output_type": "stream",
          "name": "stdout",
          "text": [
            "Enter the Range: 98\n",
            "Grade A\n"
          ]
        }
      ]
    },
    {
      "cell_type": "code",
      "source": [
        "range =[\"90 and above\",\"80-89\",\"70-79\",\"60-69\",\"Below 60\"]\n",
        "grade =[\"A\",\"B\",\"C\",\"D\",\"E\"]\n",
        "\n",
        "range = float(input(\"Enter the Range: \"))\n",
        "if range>=90:\n",
        "  print(\"Grade A\")\n",
        "elif range>=80 and range<=89:\n",
        "  print(\"Grade B\")\n",
        "elif range>=70 and range<=79:\n",
        "  print(\"Grade C\")\n",
        "elif range>=60 and range<=69:\n",
        "  print(\"Grade D\")\n",
        "else:\n",
        "  print(\"Grade E\")"
      ],
      "metadata": {
        "colab": {
          "base_uri": "https://localhost:8080/"
        },
        "id": "kySIziHJEVFM",
        "outputId": "e21ffbe1-c807-4b9b-85a7-eb7b03d5c812"
      },
      "execution_count": null,
      "outputs": [
        {
          "output_type": "stream",
          "name": "stdout",
          "text": [
            "Enter the Range: 86\n",
            "Grade B\n"
          ]
        }
      ]
    },
    {
      "cell_type": "code",
      "source": [
        "range =[\"90 and above\",\"80-89\",\"70-79\",\"60-69\",\"Below 60\"]\n",
        "grade =[\"A\",\"B\",\"C\",\"D\",\"E\"]\n",
        "\n",
        "range = float(input(\"Enter the Range: \"))\n",
        "if range>=90:\n",
        "  print(\"Grade A\")\n",
        "elif range>=80 and range<=89:\n",
        "  print(\"Grade B\")\n",
        "elif range>=70 and range<=79:\n",
        "  print(\"Grade C\")\n",
        "elif range>=60 and range<=69:\n",
        "  print(\"Grade D\")\n",
        "else:\n",
        "  print(\"Grade E\")"
      ],
      "metadata": {
        "colab": {
          "base_uri": "https://localhost:8080/"
        },
        "id": "uKfYS3iLEZIF",
        "outputId": "3a387d70-cc6d-4c77-fede-823bbe387b89"
      },
      "execution_count": null,
      "outputs": [
        {
          "output_type": "stream",
          "name": "stdout",
          "text": [
            "Enter the Range: 76\n",
            "Grade C\n"
          ]
        }
      ]
    },
    {
      "cell_type": "code",
      "source": [
        "range =[\"90 and above\",\"80-89\",\"70-79\",\"60-69\",\"Below 60\"]\n",
        "grade =[\"A\",\"B\",\"C\",\"D\",\"E\"]\n",
        "\n",
        "range = float(input(\"Enter the Range: \"))\n",
        "if range>=90:\n",
        "  print(\"Grade A\")\n",
        "elif range>=80 and range<=89:\n",
        "  print(\"Grade B\")\n",
        "elif range>=70 and range<=79:\n",
        "  print(\"Grade C\")\n",
        "elif range>=60 and range<=69:\n",
        "  print(\"Grade D\")\n",
        "else:\n",
        "  print(\"Grade E\")"
      ],
      "metadata": {
        "colab": {
          "base_uri": "https://localhost:8080/"
        },
        "id": "Y18N_3u0Ec_Z",
        "outputId": "ed9a110b-759c-4de4-fa51-45b8d50f35c1"
      },
      "execution_count": null,
      "outputs": [
        {
          "output_type": "stream",
          "name": "stdout",
          "text": [
            "Enter the Range: 69\n",
            "Grade D\n"
          ]
        }
      ]
    },
    {
      "cell_type": "code",
      "source": [
        "range =[\"90 and above\",\"80-89\",\"70-79\",\"60-69\",\"Below 60\"]\n",
        "grade =[\"A\",\"B\",\"C\",\"D\",\"E\"]\n",
        "\n",
        "range = float(input(\"Enter the Range: \"))\n",
        "if range>=90:\n",
        "  print(\"Grade A\")\n",
        "elif range>=80 and range<=89:\n",
        "  print(\"Grade B\")\n",
        "elif range>=70 and range<=79:\n",
        "  print(\"Grade C\")\n",
        "elif range>=60 and range<=69:\n",
        "  print(\"Grade D\")\n",
        "else:\n",
        "  print(\"Grade E\")"
      ],
      "metadata": {
        "colab": {
          "base_uri": "https://localhost:8080/"
        },
        "id": "oMJK-pHtEgEx",
        "outputId": "c9034a0f-566b-46d0-9eec-409304e7c2f7"
      },
      "execution_count": null,
      "outputs": [
        {
          "output_type": "stream",
          "name": "stdout",
          "text": [
            "Enter the Range: 21\n",
            "Grade E\n"
          ]
        }
      ]
    }
  ]
}