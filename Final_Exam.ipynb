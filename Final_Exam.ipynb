{
  "nbformat": 4,
  "nbformat_minor": 0,
  "metadata": {
    "colab": {
      "name": "Final Exam.ipynb",
      "provenance": [],
      "authorship_tag": "ABX9TyMNhE/dvUOkwl2CNcb+M1rV",
      "include_colab_link": true
    },
    "kernelspec": {
      "name": "python3",
      "display_name": "Python 3"
    },
    "language_info": {
      "name": "python"
    }
  },
  "cells": [
    {
      "cell_type": "markdown",
      "metadata": {
        "id": "view-in-github",
        "colab_type": "text"
      },
      "source": [
        "<a href=\"https://colab.research.google.com/github/InoRM21/CPEN-21A-BS-CPE-1-2/blob/main/Final_Exam.ipynb\" target=\"_parent\"><img src=\"https://colab.research.google.com/assets/colab-badge.svg\" alt=\"Open In Colab\"/></a>"
      ]
    },
    {
      "cell_type": "markdown",
      "source": [
        "#**Final Exam**"
      ],
      "metadata": {
        "id": "F8IvPuDfDsPt"
      }
    },
    {
      "cell_type": "markdown",
      "source": [
        "#PROBLEM STATEMENT 1"
      ],
      "metadata": {
        "id": "OX2JLjfVDxMQ"
      }
    },
    {
      "cell_type": "code",
      "source": [
        "sum = 0\n",
        "for x in [1,1,1,2,2,3,3,4,4,4]:\n",
        "      sum = sum + x\n",
        "\n",
        "print(sum)"
      ],
      "metadata": {
        "colab": {
          "base_uri": "https://localhost:8080/"
        },
        "id": "jRut1YaXD40a",
        "outputId": "16497ef2-fb99-48e2-a830-f67d06b1e1b8"
      },
      "execution_count": 8,
      "outputs": [
        {
          "output_type": "stream",
          "name": "stdout",
          "text": [
            "25\n"
          ]
        }
      ]
    },
    {
      "cell_type": "markdown",
      "source": [
        "#PROBLEM STATEMENT 2"
      ],
      "metadata": {
        "id": "wIjnsy7DD_O9"
      }
    },
    {
      "cell_type": "code",
      "source": [
        "num = 0\n",
        "sum = 0\n",
        "\n",
        "while num < 5:\n",
        "  x = int(input(\"Enter a number: \"))\n",
        "  num += 1\n",
        "  if num == 1 or num == 5:\n",
        "    sum = sum + x\n",
        "\n",
        "print(\"The sum of first and last number is \", sum)"
      ],
      "metadata": {
        "colab": {
          "base_uri": "https://localhost:8080/"
        },
        "id": "JsJpy8kXED1U",
        "outputId": "b88f22c4-6c46-4661-cbde-db5b65d5d1f7"
      },
      "execution_count": 9,
      "outputs": [
        {
          "output_type": "stream",
          "name": "stdout",
          "text": [
            "Enter a number: 1\n",
            "Enter a number: 2\n",
            "Enter a number: 3\n",
            "Enter a number: 4\n",
            "Enter a number: 5\n",
            "The sum of first and last number is  6\n"
          ]
        }
      ]
    },
    {
      "cell_type": "markdown",
      "source": [
        "#PROBLEM STATEMENT 3"
      ],
      "metadata": {
        "id": "VQMl0WX5EL14"
      }
    },
    {
      "cell_type": "code",
      "source": [
        "range =[\"90 and above\",\"80-89\",\"70-79\",\"60-69\",\"Below 60\"]\n",
        "grade =[\"A\",\"B\",\"C\",\"D\",\"E\"]\n",
        "\n",
        "range = float(input(\"Enter the Range: \"))\n",
        "if range>=90:\n",
        "  print(\"Grade A\")\n",
        "elif range>=80 and range<=89:\n",
        "  print(\"Grade B\")\n",
        "elif range>=70 and range<=79:\n",
        "  print(\"Grade C\")\n",
        "elif range>=60 and range<=69:\n",
        "  print(\"Grade D\")\n",
        "else:\n",
        "  print(\"Grade E\")"
      ],
      "metadata": {
        "colab": {
          "base_uri": "https://localhost:8080/"
        },
        "id": "y37DdudDEOfr",
        "outputId": "1e69a997-11bf-4d76-e6b1-f950acb764c7"
      },
      "execution_count": 10,
      "outputs": [
        {
          "output_type": "stream",
          "name": "stdout",
          "text": [
            "Enter the Range: 98\n",
            "Grade A\n"
          ]
        }
      ]
    },
    {
      "cell_type": "code",
      "source": [
        "range =[\"90 and above\",\"80-89\",\"70-79\",\"60-69\",\"Below 60\"]\n",
        "grade =[\"A\",\"B\",\"C\",\"D\",\"E\"]\n",
        "\n",
        "range = float(input(\"Enter the Range: \"))\n",
        "if range>=90:\n",
        "  print(\"Grade A\")\n",
        "elif range>=80 and range<=89:\n",
        "  print(\"Grade B\")\n",
        "elif range>=70 and range<=79:\n",
        "  print(\"Grade C\")\n",
        "elif range>=60 and range<=69:\n",
        "  print(\"Grade D\")\n",
        "else:\n",
        "  print(\"Grade E\")"
      ],
      "metadata": {
        "colab": {
          "base_uri": "https://localhost:8080/"
        },
        "id": "kySIziHJEVFM",
        "outputId": "52acb24b-70b4-4648-ba5b-d1b3f118bc8c"
      },
      "execution_count": 11,
      "outputs": [
        {
          "output_type": "stream",
          "name": "stdout",
          "text": [
            "Enter the Range: 86\n",
            "Grade B\n"
          ]
        }
      ]
    },
    {
      "cell_type": "code",
      "source": [
        "range =[\"90 and above\",\"80-89\",\"70-79\",\"60-69\",\"Below 60\"]\n",
        "grade =[\"A\",\"B\",\"C\",\"D\",\"E\"]\n",
        "\n",
        "range = float(input(\"Enter the Range: \"))\n",
        "if range>=90:\n",
        "  print(\"Grade A\")\n",
        "elif range>=80 and range<=89:\n",
        "  print(\"Grade B\")\n",
        "elif range>=70 and range<=79:\n",
        "  print(\"Grade C\")\n",
        "elif range>=60 and range<=69:\n",
        "  print(\"Grade D\")\n",
        "else:\n",
        "  print(\"Grade E\")"
      ],
      "metadata": {
        "colab": {
          "base_uri": "https://localhost:8080/"
        },
        "id": "uKfYS3iLEZIF",
        "outputId": "7d7d3980-5d3f-418c-da3d-641faa02e65f"
      },
      "execution_count": 12,
      "outputs": [
        {
          "output_type": "stream",
          "name": "stdout",
          "text": [
            "Enter the Range: 78\n",
            "Grade C\n"
          ]
        }
      ]
    },
    {
      "cell_type": "code",
      "source": [
        "range =[\"90 and above\",\"80-89\",\"70-79\",\"60-69\",\"Below 60\"]\n",
        "grade =[\"A\",\"B\",\"C\",\"D\",\"E\"]\n",
        "\n",
        "range = float(input(\"Enter the Range: \"))\n",
        "if range>=90:\n",
        "  print(\"Grade A\")\n",
        "elif range>=80 and range<=89:\n",
        "  print(\"Grade B\")\n",
        "elif range>=70 and range<=79:\n",
        "  print(\"Grade C\")\n",
        "elif range>=60 and range<=69:\n",
        "  print(\"Grade D\")\n",
        "else:\n",
        "  print(\"Grade E\")"
      ],
      "metadata": {
        "colab": {
          "base_uri": "https://localhost:8080/"
        },
        "id": "Y18N_3u0Ec_Z",
        "outputId": "210ffb2d-5bac-4789-eea7-42798787a17a"
      },
      "execution_count": 13,
      "outputs": [
        {
          "output_type": "stream",
          "name": "stdout",
          "text": [
            "Enter the Range: 69\n",
            "Grade D\n"
          ]
        }
      ]
    },
    {
      "cell_type": "code",
      "source": [
        "range =[\"90 and above\",\"80-89\",\"70-79\",\"60-69\",\"Below 60\"]\n",
        "grade =[\"A\",\"B\",\"C\",\"D\",\"E\"]\n",
        "\n",
        "range = float(input(\"Enter the Range: \"))\n",
        "if range>=90:\n",
        "  print(\"Grade A\")\n",
        "elif range>=80 and range<=89:\n",
        "  print(\"Grade B\")\n",
        "elif range>=70 and range<=79:\n",
        "  print(\"Grade C\")\n",
        "elif range>=60 and range<=69:\n",
        "  print(\"Grade D\")\n",
        "else:\n",
        "  print(\"Grade E\")"
      ],
      "metadata": {
        "colab": {
          "base_uri": "https://localhost:8080/"
        },
        "id": "oMJK-pHtEgEx",
        "outputId": "0eab96c1-6fa2-4998-a660-01357b14855a"
      },
      "execution_count": 14,
      "outputs": [
        {
          "output_type": "stream",
          "name": "stdout",
          "text": [
            "Enter the Range: 21\n",
            "Grade E\n"
          ]
        }
      ]
    }
  ]
}