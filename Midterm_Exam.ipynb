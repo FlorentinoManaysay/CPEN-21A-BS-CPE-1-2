{
  "nbformat": 4,
  "nbformat_minor": 0,
  "metadata": {
    "colab": {
      "name": "Midterm Exam.ipynb",
      "provenance": [],
      "authorship_tag": "ABX9TyOKSQulfTFL4gr8gR3bmKLg",
      "include_colab_link": true
    },
    "kernelspec": {
      "name": "python3",
      "display_name": "Python 3"
    },
    "language_info": {
      "name": "python"
    }
  },
  "cells": [
    {
      "cell_type": "markdown",
      "metadata": {
        "id": "view-in-github",
        "colab_type": "text"
      },
      "source": [
        "<a href=\"https://colab.research.google.com/github/InoRM21/CPEN-21A-BS-CPE-1-2/blob/main/Midterm_Exam.ipynb\" target=\"_parent\"><img src=\"https://colab.research.google.com/assets/colab-badge.svg\" alt=\"Open In Colab\"/></a>"
      ]
    },
    {
      "cell_type": "markdown",
      "metadata": {
        "id": "g386aNNpCPvq"
      },
      "source": [
        "#PROBLEM STATEMENT 1\n",
        "\n"
      ]
    },
    {
      "cell_type": "code",
      "metadata": {
        "colab": {
          "base_uri": "https://localhost:8080/"
        },
        "id": "fr5HkRnECXAJ",
        "outputId": "09a769aa-23a2-49a8-b6ef-2d585e855b2f"
      },
      "source": [
        "Full_Name = \"Florentino R. Manaysay III\"\n",
        "print(Full_Name)"
      ],
      "execution_count": 11,
      "outputs": [
        {
          "output_type": "stream",
          "name": "stdout",
          "text": [
            "Florentino R. Manaysay III\n"
          ]
        }
      ]
    },
    {
      "cell_type": "code",
      "metadata": {
        "colab": {
          "base_uri": "https://localhost:8080/"
        },
        "id": "sJ_aW2BaCyur",
        "outputId": "a3c00e84-b960-4405-e77c-81b7baa51d36"
      },
      "source": [
        "Student_Number = \"202101473\"\n",
        "print(Student_Number)"
      ],
      "execution_count": 12,
      "outputs": [
        {
          "output_type": "stream",
          "name": "stdout",
          "text": [
            "202101473\n"
          ]
        }
      ]
    },
    {
      "cell_type": "code",
      "metadata": {
        "colab": {
          "base_uri": "https://localhost:8080/"
        },
        "id": "XhTsXxQKDD2L",
        "outputId": "c4e5d501-dc63-4114-8178-4cc3ecf5b5b7"
      },
      "source": [
        "Age = 19\n",
        "print(Age)"
      ],
      "execution_count": 13,
      "outputs": [
        {
          "output_type": "stream",
          "name": "stdout",
          "text": [
            "19\n"
          ]
        }
      ]
    },
    {
      "cell_type": "code",
      "metadata": {
        "colab": {
          "base_uri": "https://localhost:8080/"
        },
        "id": "J68-S-QRDLyD",
        "outputId": "3c96c9f5-f4fc-4f45-a83a-5e97170861b2"
      },
      "source": [
        "Birthday = \"April 21 2002\"\n",
        "print(Birthday)"
      ],
      "execution_count": 14,
      "outputs": [
        {
          "output_type": "stream",
          "name": "stdout",
          "text": [
            "April 21 2002\n"
          ]
        }
      ]
    },
    {
      "cell_type": "code",
      "metadata": {
        "colab": {
          "base_uri": "https://localhost:8080/"
        },
        "id": "g6_pJAzjDcMc",
        "outputId": "451aee86-3b6f-47e6-9a7e-32a879c15dff"
      },
      "source": [
        "Adress = \"Blk 5 Lt 17 Toronto Street Summerwind Village Burol Main Dasmariñas City Cavite\"\n",
        "print(Adress)"
      ],
      "execution_count": 16,
      "outputs": [
        {
          "output_type": "stream",
          "name": "stdout",
          "text": [
            "Blk 5 Lt 17 Toronto Street Summerwind Village Burol Main Dasmariñas City Cavite\n"
          ]
        }
      ]
    },
    {
      "cell_type": "code",
      "metadata": {
        "colab": {
          "base_uri": "https://localhost:8080/"
        },
        "id": "ZgmFXc3BD020",
        "outputId": "bb0fbe9f-d410-4691-8b1c-2fbfe3099164"
      },
      "source": [
        "Course = \"BS Computer Engineering\"\n",
        "print(Course)"
      ],
      "execution_count": 17,
      "outputs": [
        {
          "output_type": "stream",
          "name": "stdout",
          "text": [
            "BS Computer Engineering\n"
          ]
        }
      ]
    },
    {
      "cell_type": "code",
      "metadata": {
        "colab": {
          "base_uri": "https://localhost:8080/"
        },
        "id": "_KkpgGE-EC3L",
        "outputId": "75f6a256-58c6-4f56-c972-ebc79a446a0d"
      },
      "source": [
        "Last_Sem_Grade = 96\n",
        "print(Last_Sem_Grade)"
      ],
      "execution_count": 73,
      "outputs": [
        {
          "output_type": "stream",
          "name": "stdout",
          "text": [
            "96\n"
          ]
        }
      ]
    },
    {
      "cell_type": "markdown",
      "metadata": {
        "id": "JPuxZsdKEL-F"
      },
      "source": [
        "#PROBLEM STATEMENT 2"
      ]
    },
    {
      "cell_type": "code",
      "metadata": {
        "colab": {
          "base_uri": "https://localhost:8080/"
        },
        "id": "YgV0KOkAEYzO",
        "outputId": "94d0443c-2bdf-4356-e99f-ba31df027ff6"
      },
      "source": [
        "#A\n",
        "x = (2<4) and (4<6)\n",
        "print(x)"
      ],
      "execution_count": 24,
      "outputs": [
        {
          "output_type": "stream",
          "name": "stdout",
          "text": [
            "True\n"
          ]
        }
      ]
    },
    {
      "cell_type": "code",
      "metadata": {
        "colab": {
          "base_uri": "https://localhost:8080/"
        },
        "id": "pB0l7xLMFjRM",
        "outputId": "42cb2497-565f-4ad5-f24f-c93c388bf2d2"
      },
      "source": [
        "#B\n",
        "x = (2<4) or (4==6)\n",
        "print(x)"
      ],
      "execution_count": 28,
      "outputs": [
        {
          "output_type": "stream",
          "name": "stdout",
          "text": [
            "True\n"
          ]
        }
      ]
    },
    {
      "cell_type": "code",
      "metadata": {
        "colab": {
          "base_uri": "https://localhost:8080/"
        },
        "id": "uWOTvHghF43I",
        "outputId": "a8a50f88-fac8-42e1-a388-52dba2e5a984"
      },
      "source": [
        "#C\n",
        "x = not(2<4) or (4==6)\n",
        "print(x)\n"
      ],
      "execution_count": 31,
      "outputs": [
        {
          "output_type": "stream",
          "name": "stdout",
          "text": [
            "False\n"
          ]
        }
      ]
    },
    {
      "cell_type": "code",
      "metadata": {
        "colab": {
          "base_uri": "https://localhost:8080/"
        },
        "id": "LCcueYTAGCoY",
        "outputId": "05643dc2-26ea-4bdd-fa55-e2a57a1d0855"
      },
      "source": [
        "#D\n",
        "x = not(4<6)\n",
        "print(x)"
      ],
      "execution_count": 32,
      "outputs": [
        {
          "output_type": "stream",
          "name": "stdout",
          "text": [
            "False\n"
          ]
        }
      ]
    },
    {
      "cell_type": "code",
      "metadata": {
        "colab": {
          "base_uri": "https://localhost:8080/"
        },
        "id": "kdsU-LssGE7o",
        "outputId": "c4fa08f3-0b8c-4551-85fa-ab09cf0e4fa6"
      },
      "source": [
        "#E\n",
        "y = (\"Y\"==\"Y\")or(\"Y\"==\"y\")\n",
        "print(y)"
      ],
      "execution_count": 43,
      "outputs": [
        {
          "output_type": "stream",
          "name": "stdout",
          "text": [
            "True\n"
          ]
        }
      ]
    },
    {
      "cell_type": "code",
      "metadata": {
        "colab": {
          "base_uri": "https://localhost:8080/"
        },
        "id": "yUiu099-GFCD",
        "outputId": "e7daa04f-1e13-4613-e3ec-4f734b6a72be"
      },
      "source": [
        "#F\n",
        "y = (\"Y\"==\"Y\") and (\"Y\"==\"y\")\n",
        "print(y)"
      ],
      "execution_count": 46,
      "outputs": [
        {
          "output_type": "stream",
          "name": "stdout",
          "text": [
            "False\n"
          ]
        }
      ]
    },
    {
      "cell_type": "code",
      "metadata": {
        "colab": {
          "base_uri": "https://localhost:8080/"
        },
        "id": "mAp5gMXZGFGP",
        "outputId": "db7eb4e2-a9aa-47d0-84f4-b2645247a360"
      },
      "source": [
        "#G\n",
        "y = not(\"Y\"==\"y\")\n",
        "print(y)"
      ],
      "execution_count": 51,
      "outputs": [
        {
          "output_type": "stream",
          "name": "stdout",
          "text": [
            "True\n"
          ]
        }
      ]
    },
    {
      "cell_type": "code",
      "metadata": {
        "colab": {
          "base_uri": "https://localhost:8080/"
        },
        "id": "cKszp-oLGFJe",
        "outputId": "74455a7a-e2af-417f-ba13-eb05fcd00c8b"
      },
      "source": [
        "#H\n",
        "x = ((2<4)and(4==5+1)) or (\"Y\"==\"No\")\n",
        "print(x)"
      ],
      "execution_count": 53,
      "outputs": [
        {
          "output_type": "stream",
          "name": "stdout",
          "text": [
            "False\n"
          ]
        }
      ]
    },
    {
      "cell_type": "code",
      "metadata": {
        "colab": {
          "base_uri": "https://localhost:8080/"
        },
        "id": "c51QL3r9GIuB",
        "outputId": "e1e391c2-5005-4061-83a8-3c60d95f7ef0"
      },
      "source": [
        "#I\n",
        "x= ((4==2)and(4==7)) or (\"Y\"==\"Y\")\n",
        "print(x)"
      ],
      "execution_count": 55,
      "outputs": [
        {
          "output_type": "stream",
          "name": "stdout",
          "text": [
            "True\n"
          ]
        }
      ]
    },
    {
      "cell_type": "code",
      "metadata": {
        "colab": {
          "base_uri": "https://localhost:8080/"
        },
        "id": "MnzA9YhUGFMg",
        "outputId": "e0806024-9661-4b08-a3f3-14f94ce42306"
      },
      "source": [
        "#J\n",
        "x = (4==2) and ((4==7)or(\"Y\"==\"Y\"))\n",
        "print(x)"
      ],
      "execution_count": 59,
      "outputs": [
        {
          "output_type": "stream",
          "name": "stdout",
          "text": [
            "False\n"
          ]
        }
      ]
    },
    {
      "cell_type": "markdown",
      "metadata": {
        "id": "CgG1jcggHKrQ"
      },
      "source": [
        "#PROBLEM STATEMENT 3"
      ]
    },
    {
      "cell_type": "code",
      "metadata": {
        "id": "HTsk-DkiKdQU"
      },
      "source": [
        "x = 2, y = -3, w = 7, z = -10\t"
      ],
      "execution_count": null,
      "outputs": []
    },
    {
      "cell_type": "code",
      "metadata": {
        "colab": {
          "base_uri": "https://localhost:8080/"
        },
        "id": "Jrt-4rEvHN8U",
        "outputId": "2c6df860-e1d6-4821-80e4-50ff796e7020"
      },
      "source": [
        "#A\n",
        "x = 2\n",
        "y = -3\n",
        "\n",
        "print(x/y)"
      ],
      "execution_count": 61,
      "outputs": [
        {
          "output_type": "stream",
          "name": "stdout",
          "text": [
            "-0.6666666666666666\n"
          ]
        }
      ]
    },
    {
      "cell_type": "code",
      "metadata": {
        "colab": {
          "base_uri": "https://localhost:8080/"
        },
        "id": "PIkzMX56HV3I",
        "outputId": "2d94f535-acaf-4093-b150-f85e9cc4d4dd"
      },
      "source": [
        "#B\n",
        "x = 2\n",
        "y = -3\n",
        "w = 7\n",
        "print(w/y/x)"
      ],
      "execution_count": 64,
      "outputs": [
        {
          "output_type": "stream",
          "name": "stdout",
          "text": [
            "-1.1666666666666667\n"
          ]
        }
      ]
    },
    {
      "cell_type": "code",
      "metadata": {
        "colab": {
          "base_uri": "https://localhost:8080/"
        },
        "id": "qtxC_eatHV54",
        "outputId": "1eba7cb3-1e44-4c26-c224-24adeeb3fa20"
      },
      "source": [
        "#C\n",
        "x = 2\n",
        "y = -3\n",
        "z = -10\t\n",
        "print(z/y%x)"
      ],
      "execution_count": 65,
      "outputs": [
        {
          "output_type": "stream",
          "name": "stdout",
          "text": [
            "1.3333333333333335\n"
          ]
        }
      ]
    },
    {
      "cell_type": "code",
      "metadata": {
        "colab": {
          "base_uri": "https://localhost:8080/"
        },
        "id": "4CRkvclxHV8g",
        "outputId": "61fff72f-ba97-4c8e-c63c-b0f861242e54"
      },
      "source": [
        "#D\n",
        "x = 2\n",
        "y = -3\n",
        "w = 7\n",
        "print(x%-y*w)"
      ],
      "execution_count": 66,
      "outputs": [
        {
          "output_type": "stream",
          "name": "stdout",
          "text": [
            "14\n"
          ]
        }
      ]
    },
    {
      "cell_type": "code",
      "metadata": {
        "colab": {
          "base_uri": "https://localhost:8080/"
        },
        "id": "YmWCRUK0HV_I",
        "outputId": "b59f3b43-faff-42de-cfa8-13a77116c706"
      },
      "source": [
        "#E\n",
        "x = 2\n",
        "y = -3\n",
        "print(x%y)"
      ],
      "execution_count": 67,
      "outputs": [
        {
          "output_type": "stream",
          "name": "stdout",
          "text": [
            "-1\n"
          ]
        }
      ]
    },
    {
      "cell_type": "code",
      "metadata": {
        "colab": {
          "base_uri": "https://localhost:8080/"
        },
        "id": "Xj9deRL5HWB5",
        "outputId": "dc87d5b8-9851-455f-8e42-643286399581"
      },
      "source": [
        "#F\n",
        "x = 2\n",
        "y = -3\n",
        "w = 7\n",
        "z = -10\t\n",
        "print(z%w-y/x*5+5)"
      ],
      "execution_count": 68,
      "outputs": [
        {
          "output_type": "stream",
          "name": "stdout",
          "text": [
            "16.5\n"
          ]
        }
      ]
    },
    {
      "cell_type": "code",
      "metadata": {
        "colab": {
          "base_uri": "https://localhost:8080/"
        },
        "id": "z_O2NRu-HWEg",
        "outputId": "9414d71f-33cb-4470-86b6-f956ba1c363f"
      },
      "source": [
        "#G\n",
        "x = 2\n",
        "y = -3\n",
        "print(9-x%(2+y))"
      ],
      "execution_count": 69,
      "outputs": [
        {
          "output_type": "stream",
          "name": "stdout",
          "text": [
            "9\n"
          ]
        }
      ]
    },
    {
      "cell_type": "code",
      "metadata": {
        "colab": {
          "base_uri": "https://localhost:8080/"
        },
        "id": "SNbVjpYuHWHM",
        "outputId": "9b47a7e7-0d7d-4568-d10b-10a62d313dae"
      },
      "source": [
        "#H\n",
        "w = 7\n",
        "z = -10\t\n",
        "print(z//w)"
      ],
      "execution_count": 70,
      "outputs": [
        {
          "output_type": "stream",
          "name": "stdout",
          "text": [
            "-2\n"
          ]
        }
      ]
    },
    {
      "cell_type": "code",
      "metadata": {
        "colab": {
          "base_uri": "https://localhost:8080/"
        },
        "id": "3z_-vPMyHWJg",
        "outputId": "f200c4aa-dec1-499e-806d-8d07b14234bf"
      },
      "source": [
        "#I\n",
        "y = -3\n",
        "print((2+y)**2)"
      ],
      "execution_count": 71,
      "outputs": [
        {
          "output_type": "stream",
          "name": "stdout",
          "text": [
            "1\n"
          ]
        }
      ]
    },
    {
      "cell_type": "code",
      "metadata": {
        "colab": {
          "base_uri": "https://localhost:8080/"
        },
        "id": "pnaG9vD1HWMY",
        "outputId": "43654c40-55ad-4664-b590-153072df79f8"
      },
      "source": [
        "#J\n",
        "x = 2\n",
        "w = 7\n",
        "print(w/x*2)"
      ],
      "execution_count": 75,
      "outputs": [
        {
          "output_type": "stream",
          "name": "stdout",
          "text": [
            "7.0\n"
          ]
        }
      ]
    }
  ]
}